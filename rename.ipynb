{
 "cells": [
  {
   "cell_type": "code",
   "execution_count": 46,
   "metadata": {},
   "outputs": [
    {
     "name": "stdout",
     "output_type": "stream",
     "text": [
      "imported\n"
     ]
    }
   ],
   "source": [
    "import os\n",
    "import shutil\n",
    "print('imported')"
   ]
  },
  {
   "cell_type": "code",
   "execution_count": 427,
   "metadata": {},
   "outputs": [
    {
     "name": "stdout",
     "output_type": "stream",
     "text": [
      "course5_week4_(3).mp4\n",
      "course5_week4_(2).mp4\n",
      "course5_week4_(12).mp4\n",
      "course5_week4_(5).mp4\n",
      "course5_week4_(9).mp4\n",
      "course5_week4_(8).mp4\n",
      "course5_week4_(4).mp4\n",
      "course5_week4_(13).mp4\n",
      "course5_week4_(7).mp4\n",
      "course5_week4_(10).mp4\n",
      "course5_week4_(11).mp4\n",
      "course5_week4_(6).mp4\n",
      "course5_week4_(1).mp4\n",
      "course5_week4.mp4\n"
     ]
    }
   ],
   "source": [
    "os.chdir('/Users/admin/Desktop/')\n",
    "\n",
    "m_course = 'course5'\n",
    "course = m_course + '_week4'\n",
    "\n",
    "file_name_ls = []\n",
    "sequence = 0\n",
    "for f in os.listdir():     \n",
    "    file_name, file_ext = os.path.splitext(f)\n",
    "    if 'index' in file_name:\n",
    "        new_name = file_name.replace('index ', course + '_')\n",
    "        if 'index' in new_name:\n",
    "            new_name = file_name.replace('index', course)\n",
    "        new_file = f'{new_name}{file_ext}'\n",
    "        print(new_file)\n",
    "        os.rename(f, new_file)"
   ]
  },
  {
   "cell_type": "code",
   "execution_count": 443,
   "metadata": {},
   "outputs": [
    {
     "name": "stdout",
     "output_type": "stream",
     "text": [
      "Done\n"
     ]
    }
   ],
   "source": [
    "os.chdir('/Users/admin/Desktop/')\n",
    "\n",
    "for file in os.listdir():\n",
    "#     print(os.listdir())\n",
    "#     print(file)\n",
    "    if course in file:\n",
    "        current = '/Users/admin/Desktop/' + file\n",
    "        print(current)\n",
    "        new = '/Users/admin/Desktop/google_IT_automation/' + m_course + '/' + course + '/' + file\n",
    "        print(new)\n",
    "        os.rename(current, new)\n",
    "        shutil.move(current, new)\n",
    "        os.replace(current, new)\n",
    "print('Done')"
   ]
  },
  {
   "cell_type": "code",
   "execution_count": 119,
   "metadata": {},
   "outputs": [],
   "source": [
    "os.chdir('/Users/admin/Desktop/')\n",
    "\n",
    "file_name_ls = []\n",
    "sequence = 0\n",
    "for f in os.listdir():     \n",
    "    if 'course1_week2' in f:\n",
    "        new_file = f + '.mp4'\n",
    "        print(new_file)\n",
    "        os.rename(f, new_file)"
   ]
  },
  {
   "cell_type": "code",
   "execution_count": 66,
   "metadata": {},
   "outputs": [
    {
     "name": "stdout",
     "output_type": "stream",
     "text": [
      "course 1\n"
     ]
    }
   ],
   "source": [
    "a = 'index 1'\n",
    "a_ = a.replace('index', 'course')\n",
    "print(a_)"
   ]
  },
  {
   "cell_type": "code",
   "execution_count": null,
   "metadata": {},
   "outputs": [],
   "source": [
    "import os\n",
    "\n",
    "os.chdir('/path/to/files/')\n",
    "\n",
    "# Am I in the correct directory?\n",
    "# print(os.getcwd())\n",
    "\n",
    "# print(dir(os))\n",
    "\n",
    "# Print all the current file names\n",
    "for f in os.listdir():\n",
    "    # If .DS_Store file is created, ignore it\n",
    "    if f == '.DS_Store':\n",
    "        continue\n",
    "\n",
    "    file_name, file_ext = os.path.splitext(f)\n",
    "    # print(file_name)\n",
    "\n",
    "    # One way to do this\n",
    "    f_title, f_course, f_number = file_name.split('-')\n",
    "\n",
    "    # print('{}-{}-{}{}'.format(f_number, f_course, f_title, file_ext))\n",
    "\n",
    "    # Need to remove whitespace\n",
    "    f_title = f_title.strip()\n",
    "    f_course = f_course.strip()\n",
    "    # f_number = f_number.strip()\n",
    "\n",
    "    # Want to remove the number sign?\n",
    "    # f_number = f_number.strip()[1:]\n",
    "\n",
    "    # One thing I noticed about this output is that if it was sorted by filename\n",
    "    # then the 1 and 10 would be next to each other. How do we fix this? One way we can fix this is to pad\n",
    "    # the numbers. So instead of 1, we'll make it 01. If we had hundreds of files then this would maybe need to be 001.\n",
    "    # We can do this in Python with zfill\n",
    "    f_number = f_number.strip()[1:].zfill(2)\n",
    "\n",
    "    # print('{}-{}-{}{}'.format(f_number, f_course, f_title, file_ext))\n",
    "\n",
    "    # You have the power to reformat in any way you see fit\n",
    "    print('{}-{}{}'.format(f_number, f_title.strip(), file_ext.strip()))\n",
    "\n",
    "    new_name = '{}-{}{}'.format(file_num, file_title, file_ext)\n",
    "\n",
    "    os.rename(fn, new_name)\n",
    "\n",
    "\n",
    "# print(len(os.listdir()))"
   ]
  },
  {
   "cell_type": "code",
   "execution_count": 5,
   "metadata": {},
   "outputs": [
    {
     "name": "stdout",
     "output_type": "stream",
     "text": [
      "DEEPANSHU\n"
     ]
    }
   ],
   "source": [
    "raw_name = \"Hb User DEEPANSHU SETIA \"\n",
    "name = raw_name.rstrip().split()[2]\n",
    "print(name)"
   ]
  },
  {
   "cell_type": "code",
   "execution_count": null,
   "metadata": {},
   "outputs": [],
   "source": []
  }
 ],
 "metadata": {
  "kernelspec": {
   "display_name": "Python 3",
   "language": "python",
   "name": "python3"
  },
  "language_info": {
   "codemirror_mode": {
    "name": "ipython",
    "version": 3
   },
   "file_extension": ".py",
   "mimetype": "text/x-python",
   "name": "python",
   "nbconvert_exporter": "python",
   "pygments_lexer": "ipython3",
   "version": "3.7.6"
  }
 },
 "nbformat": 4,
 "nbformat_minor": 4
}
